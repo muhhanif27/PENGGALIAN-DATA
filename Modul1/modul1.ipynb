{
 "cells": [
  {
   "cell_type": "markdown",
   "metadata": {},
   "source": [
    "# Tugas 1\n"
   ]
  },
  {
   "cell_type": "code",
   "execution_count": 14,
   "metadata": {},
   "outputs": [],
   "source": [
    "import random as r\n",
    "\n",
    "def tugas_1(lst):\n",
    "    # tambahkan 10 data\n",
    "    for _ in range(10):\n",
    "        if r.choice([True, False]):  \n",
    "            lst.append(r.randint(1, 100)) \n",
    "        else:\n",
    "            lst.append(round(r.uniform(1, 100), 2)) \n",
    "    print(lst)\n",
    "\n",
    "    # hapus data dengan index ganjil\n",
    "    lst = [val for idx, val in enumerate(lst) if idx % 2 == 0]\n",
    "    print(lst)\n",
    "\n",
    "    # balik urutan data\n",
    "    lst.reverse()\n",
    "    print(lst)\n",
    "\n",
    "    # hapus nilai terbesar\n",
    "    lst.remove(max(lst))\n",
    "    print(lst)\n",
    "\n",
    "    # urut descending\n",
    "    lst.sort(reverse=True)\n",
    "    \n",
    "    return lst\n"
   ]
  },
  {
   "cell_type": "code",
   "execution_count": 12,
   "metadata": {},
   "outputs": [
    {
     "name": "stdout",
     "output_type": "stream",
     "text": [
      "[24.2, 19, 61, 64.99, 55.8, 83.3, 17.49, 8, 84.01, 49]\n",
      "[19, 64.99, 83.3, 8, 49]\n",
      "[49, 8, 83.3, 64.99, 19]\n",
      "[49, 8, 64.99, 19]\n",
      "[64.99, 49, 19, 8]\n"
     ]
    }
   ],
   "source": [
    "numbers = []\n",
    "hasil = tugas_1(numbers)\n",
    "print(hasil)"
   ]
  },
  {
   "cell_type": "markdown",
   "metadata": {},
   "source": [
    "# Tugas 2\n"
   ]
  },
  {
   "cell_type": "code",
   "execution_count": 1,
   "metadata": {},
   "outputs": [
    {
     "name": "stdout",
     "output_type": "stream",
     "text": [
      "({'Matematika': 85, 'Pemrograman Dasar': '', 'Struktur Data': 88, 'Basis Data': 87, 'Jaringan Komputer': '', 'Kecerdasan Buatan': 92, 'Sistem Operasi': 85, 'Keamanan Informasi': '', 'Manajemen Proyek TI': 84, 'Analisis Data': 91},)\n"
     ]
    }
   ],
   "source": [
    "mata_kuliah = ({\n",
    "    \"Matematika\": 85,\n",
    "    \"Pemrograman Dasar\": \"\",\n",
    "    \"Struktur Data\": 88,\n",
    "    \"Basis Data\": 87,\n",
    "    \"Jaringan Komputer\": \"\",\n",
    "    \"Kecerdasan Buatan\": 92,\n",
    "    \"Sistem Operasi\": 85,\n",
    "    \"Keamanan Informasi\": \"\",\n",
    "    \"Manajemen Proyek TI\": 84,\n",
    "    \"Analisis Data\": 91\n",
    "},)\n",
    "\n",
    "print(mata_kuliah)"
   ]
  },
  {
   "cell_type": "code",
   "execution_count": 2,
   "metadata": {},
   "outputs": [],
   "source": [
    "mata_kuliah_filter= ({k: v for k, v in mata_kuliah[0].items() if v != \"\"},)"
   ]
  },
  {
   "cell_type": "code",
   "execution_count": 3,
   "metadata": {},
   "outputs": [
    {
     "name": "stdout",
     "output_type": "stream",
     "text": [
      "({'Matematika': 85, 'Struktur Data': 88, 'Basis Data': 87, 'Kecerdasan Buatan': 92, 'Sistem Operasi': 85, 'Manajemen Proyek TI': 84, 'Analisis Data': 91},)\n"
     ]
    }
   ],
   "source": [
    "print(mata_kuliah_filter)"
   ]
  },
  {
   "cell_type": "code",
   "execution_count": 4,
   "metadata": {},
   "outputs": [
    {
     "name": "stdout",
     "output_type": "stream",
     "text": [
      "7\n"
     ]
    }
   ],
   "source": [
    "jumlah = len(mata_kuliah_filter[0])\n",
    "print(jumlah)"
   ]
  },
  {
   "cell_type": "code",
   "execution_count": 5,
   "metadata": {},
   "outputs": [
    {
     "name": "stdout",
     "output_type": "stream",
     "text": [
      "[('Manajemen Proyek TI', 84), ('Matematika', 85), ('Sistem Operasi', 85), ('Basis Data', 87), ('Struktur Data', 88), ('Analisis Data', 91), ('Kecerdasan Buatan', 92)]\n"
     ]
    }
   ],
   "source": [
    "ascending = sorted(mata_kuliah_filter[0].items(), key=lambda x: x[1])   \n",
    "print(ascending)"
   ]
  },
  {
   "cell_type": "code",
   "execution_count": null,
   "metadata": {},
   "outputs": [
    {
     "name": "stdout",
     "output_type": "stream",
     "text": [
      "('Kecerdasan Buatan', 92)\n"
     ]
    }
   ],
   "source": [
    "# mata kuliah nilai tertinggi dan beserta nilainya\n",
    "max_value = max(mata_kuliah_filter[0].items(), key=lambda x: x[1])\n",
    "print(max_value)"
   ]
  },
  {
   "cell_type": "code",
   "execution_count": 77,
   "metadata": {},
   "outputs": [],
   "source": [
    "# average\n",
    "average = sum(mata_kuliah_filter[0].values()) / len(mata_kuliah_filter[0])"
   ]
  },
  {
   "cell_type": "code",
   "execution_count": 81,
   "metadata": {},
   "outputs": [
    {
     "name": "stdout",
     "output_type": "stream",
     "text": [
      "87.43\n"
     ]
    }
   ],
   "source": [
    "print(round(average, 2))"
   ]
  },
  {
   "cell_type": "markdown",
   "metadata": {},
   "source": [
    "# Tugas 3"
   ]
  },
  {
   "cell_type": "code",
   "execution_count": 18,
   "metadata": {},
   "outputs": [],
   "source": [
    "import pandas as pd"
   ]
  },
  {
   "cell_type": "code",
   "execution_count": 19,
   "metadata": {},
   "outputs": [],
   "source": [
    "data_hp = pd.DataFrame({\n",
    "    \"Brand\": [\"Apple\",\"Xiaomi\",\"Samsung\",\"Infinix\",\"Oppo\",\"Asus\",\"Lenovo\",\"Huawei\",\"Google Pixel\",\"Sony\"],\n",
    "    \"Tahun Rilis\": [2015,2017,2018,2015,2017,2020,2019,2019,2020,2017],\n",
    "    \"Terjual\": [150,75,120,85,75,120,50,90,55,50],\n",
    "    \"Harga (Juta)\": [19,9,10,9,4,9,15,15,15,11],\n",
    "    \"Jenis Penjualan\": [\"Online\",\"Offline\",\"Online\",\"Online\",\"Offline\",\"Online\",\"Offline\",\"Online\",\"Offline\",\"Offline\"]\n",
    "})"
   ]
  },
  {
   "cell_type": "code",
   "execution_count": 31,
   "metadata": {},
   "outputs": [
    {
     "data": {
      "text/html": [
       "<div>\n",
       "<style scoped>\n",
       "    .dataframe tbody tr th:only-of-type {\n",
       "        vertical-align: middle;\n",
       "    }\n",
       "\n",
       "    .dataframe tbody tr th {\n",
       "        vertical-align: top;\n",
       "    }\n",
       "\n",
       "    .dataframe thead th {\n",
       "        text-align: right;\n",
       "    }\n",
       "</style>\n",
       "<table border=\"1\" class=\"dataframe\">\n",
       "  <thead>\n",
       "    <tr style=\"text-align: right;\">\n",
       "      <th></th>\n",
       "      <th>Brand</th>\n",
       "      <th>Tahun Rilis</th>\n",
       "      <th>Terjual</th>\n",
       "      <th>Harga (Juta)</th>\n",
       "      <th>Jenis Penjualan</th>\n",
       "    </tr>\n",
       "  </thead>\n",
       "  <tbody>\n",
       "    <tr>\n",
       "      <th>0</th>\n",
       "      <td>Apple</td>\n",
       "      <td>2015</td>\n",
       "      <td>150</td>\n",
       "      <td>19</td>\n",
       "      <td>Online</td>\n",
       "    </tr>\n",
       "    <tr>\n",
       "      <th>1</th>\n",
       "      <td>Xiaomi</td>\n",
       "      <td>2017</td>\n",
       "      <td>75</td>\n",
       "      <td>9</td>\n",
       "      <td>Offline</td>\n",
       "    </tr>\n",
       "    <tr>\n",
       "      <th>2</th>\n",
       "      <td>Samsung</td>\n",
       "      <td>2018</td>\n",
       "      <td>120</td>\n",
       "      <td>10</td>\n",
       "      <td>Online</td>\n",
       "    </tr>\n",
       "    <tr>\n",
       "      <th>3</th>\n",
       "      <td>Infinix</td>\n",
       "      <td>2015</td>\n",
       "      <td>85</td>\n",
       "      <td>9</td>\n",
       "      <td>Online</td>\n",
       "    </tr>\n",
       "    <tr>\n",
       "      <th>4</th>\n",
       "      <td>Oppo</td>\n",
       "      <td>2017</td>\n",
       "      <td>75</td>\n",
       "      <td>4</td>\n",
       "      <td>Offline</td>\n",
       "    </tr>\n",
       "    <tr>\n",
       "      <th>5</th>\n",
       "      <td>Asus</td>\n",
       "      <td>2020</td>\n",
       "      <td>120</td>\n",
       "      <td>9</td>\n",
       "      <td>Online</td>\n",
       "    </tr>\n",
       "    <tr>\n",
       "      <th>6</th>\n",
       "      <td>Lenovo</td>\n",
       "      <td>2019</td>\n",
       "      <td>50</td>\n",
       "      <td>15</td>\n",
       "      <td>Offline</td>\n",
       "    </tr>\n",
       "    <tr>\n",
       "      <th>7</th>\n",
       "      <td>Huawei</td>\n",
       "      <td>2019</td>\n",
       "      <td>90</td>\n",
       "      <td>15</td>\n",
       "      <td>Online</td>\n",
       "    </tr>\n",
       "    <tr>\n",
       "      <th>8</th>\n",
       "      <td>Google Pixel</td>\n",
       "      <td>2020</td>\n",
       "      <td>55</td>\n",
       "      <td>15</td>\n",
       "      <td>Offline</td>\n",
       "    </tr>\n",
       "    <tr>\n",
       "      <th>9</th>\n",
       "      <td>Sony</td>\n",
       "      <td>2017</td>\n",
       "      <td>50</td>\n",
       "      <td>11</td>\n",
       "      <td>Offline</td>\n",
       "    </tr>\n",
       "  </tbody>\n",
       "</table>\n",
       "</div>"
      ],
      "text/plain": [
       "          Brand  Tahun Rilis  Terjual  Harga (Juta) Jenis Penjualan\n",
       "0         Apple         2015      150            19          Online\n",
       "1        Xiaomi         2017       75             9         Offline\n",
       "2       Samsung         2018      120            10          Online\n",
       "3       Infinix         2015       85             9          Online\n",
       "4          Oppo         2017       75             4         Offline\n",
       "5          Asus         2020      120             9          Online\n",
       "6        Lenovo         2019       50            15         Offline\n",
       "7        Huawei         2019       90            15          Online\n",
       "8  Google Pixel         2020       55            15         Offline\n",
       "9          Sony         2017       50            11         Offline"
      ]
     },
     "metadata": {},
     "output_type": "display_data"
    }
   ],
   "source": [
    "display(data_hp)"
   ]
  },
  {
   "cell_type": "code",
   "execution_count": null,
   "metadata": {},
   "outputs": [
    {
     "data": {
      "text/html": [
       "<div>\n",
       "<style scoped>\n",
       "    .dataframe tbody tr th:only-of-type {\n",
       "        vertical-align: middle;\n",
       "    }\n",
       "\n",
       "    .dataframe tbody tr th {\n",
       "        vertical-align: top;\n",
       "    }\n",
       "\n",
       "    .dataframe thead th {\n",
       "        text-align: right;\n",
       "    }\n",
       "</style>\n",
       "<table border=\"1\" class=\"dataframe\">\n",
       "  <thead>\n",
       "    <tr style=\"text-align: right;\">\n",
       "      <th></th>\n",
       "      <th>Tahun Rilis</th>\n",
       "      <th>Terjual</th>\n",
       "      <th>Harga (Juta)</th>\n",
       "    </tr>\n",
       "  </thead>\n",
       "  <tbody>\n",
       "    <tr>\n",
       "      <th>count</th>\n",
       "      <td>10.000000</td>\n",
       "      <td>10.000000</td>\n",
       "      <td>10.000000</td>\n",
       "    </tr>\n",
       "    <tr>\n",
       "      <th>mean</th>\n",
       "      <td>2017.700000</td>\n",
       "      <td>87.000000</td>\n",
       "      <td>11.600000</td>\n",
       "    </tr>\n",
       "    <tr>\n",
       "      <th>std</th>\n",
       "      <td>1.828782</td>\n",
       "      <td>33.681515</td>\n",
       "      <td>4.351245</td>\n",
       "    </tr>\n",
       "    <tr>\n",
       "      <th>min</th>\n",
       "      <td>2015.000000</td>\n",
       "      <td>50.000000</td>\n",
       "      <td>4.000000</td>\n",
       "    </tr>\n",
       "    <tr>\n",
       "      <th>25%</th>\n",
       "      <td>2017.000000</td>\n",
       "      <td>60.000000</td>\n",
       "      <td>9.000000</td>\n",
       "    </tr>\n",
       "    <tr>\n",
       "      <th>50%</th>\n",
       "      <td>2017.500000</td>\n",
       "      <td>80.000000</td>\n",
       "      <td>10.500000</td>\n",
       "    </tr>\n",
       "    <tr>\n",
       "      <th>75%</th>\n",
       "      <td>2019.000000</td>\n",
       "      <td>112.500000</td>\n",
       "      <td>15.000000</td>\n",
       "    </tr>\n",
       "    <tr>\n",
       "      <th>max</th>\n",
       "      <td>2020.000000</td>\n",
       "      <td>150.000000</td>\n",
       "      <td>19.000000</td>\n",
       "    </tr>\n",
       "  </tbody>\n",
       "</table>\n",
       "</div>"
      ],
      "text/plain": [
       "       Tahun Rilis     Terjual  Harga (Juta)\n",
       "count    10.000000   10.000000     10.000000\n",
       "mean   2017.700000   87.000000     11.600000\n",
       "std       1.828782   33.681515      4.351245\n",
       "min    2015.000000   50.000000      4.000000\n",
       "25%    2017.000000   60.000000      9.000000\n",
       "50%    2017.500000   80.000000     10.500000\n",
       "75%    2019.000000  112.500000     15.000000\n",
       "max    2020.000000  150.000000     19.000000"
      ]
     },
     "metadata": {},
     "output_type": "display_data"
    }
   ],
   "source": [
    "display(data_hp.drop(columns=[\"Tahun Rilis\"]).describe())\n",
    "# display(data_hp.describe())"
   ]
  },
  {
   "cell_type": "code",
   "execution_count": 33,
   "metadata": {},
   "outputs": [
    {
     "data": {
      "text/html": [
       "<div>\n",
       "<style scoped>\n",
       "    .dataframe tbody tr th:only-of-type {\n",
       "        vertical-align: middle;\n",
       "    }\n",
       "\n",
       "    .dataframe tbody tr th {\n",
       "        vertical-align: top;\n",
       "    }\n",
       "\n",
       "    .dataframe thead th {\n",
       "        text-align: right;\n",
       "    }\n",
       "</style>\n",
       "<table border=\"1\" class=\"dataframe\">\n",
       "  <thead>\n",
       "    <tr style=\"text-align: right;\">\n",
       "      <th></th>\n",
       "      <th>Brand</th>\n",
       "      <th>Tahun Rilis</th>\n",
       "      <th>Terjual</th>\n",
       "      <th>Harga (Juta)</th>\n",
       "      <th>Jenis Penjualan</th>\n",
       "      <th>Penghasilan</th>\n",
       "    </tr>\n",
       "  </thead>\n",
       "  <tbody>\n",
       "    <tr>\n",
       "      <th>0</th>\n",
       "      <td>Apple</td>\n",
       "      <td>2015</td>\n",
       "      <td>150</td>\n",
       "      <td>19</td>\n",
       "      <td>Online</td>\n",
       "      <td>2850</td>\n",
       "    </tr>\n",
       "    <tr>\n",
       "      <th>7</th>\n",
       "      <td>Huawei</td>\n",
       "      <td>2019</td>\n",
       "      <td>90</td>\n",
       "      <td>15</td>\n",
       "      <td>Online</td>\n",
       "      <td>1350</td>\n",
       "    </tr>\n",
       "    <tr>\n",
       "      <th>2</th>\n",
       "      <td>Samsung</td>\n",
       "      <td>2018</td>\n",
       "      <td>120</td>\n",
       "      <td>10</td>\n",
       "      <td>Online</td>\n",
       "      <td>1200</td>\n",
       "    </tr>\n",
       "  </tbody>\n",
       "</table>\n",
       "</div>"
      ],
      "text/plain": [
       "     Brand  Tahun Rilis  Terjual  Harga (Juta) Jenis Penjualan  Penghasilan\n",
       "0    Apple         2015      150            19          Online         2850\n",
       "7   Huawei         2019       90            15          Online         1350\n",
       "2  Samsung         2018      120            10          Online         1200"
      ]
     },
     "metadata": {},
     "output_type": "display_data"
    }
   ],
   "source": [
    "# Tentukan 3 brand dengan penghasilan terbesar (harga x terjual).\n",
    "data_hp[\"Penghasilan\"] = data_hp[\"Terjual\"] * data_hp[\"Harga (Juta)\"]\n",
    "top3 = data_hp.nlargest(3, \"Penghasilan\")\n",
    "display(top3)"
   ]
  },
  {
   "cell_type": "code",
   "execution_count": 34,
   "metadata": {},
   "outputs": [],
   "source": [
    "data_hp = data_hp.drop(columns=[\"Penghasilan\"])"
   ]
  },
  {
   "cell_type": "code",
   "execution_count": 35,
   "metadata": {},
   "outputs": [],
   "source": [
    "online = data_hp[data_hp[\"Jenis Penjualan\"] == \"Online\"]\n",
    "offline = data_hp[data_hp[\"Jenis Penjualan\"] == \"Offline\"]"
   ]
  },
  {
   "cell_type": "code",
   "execution_count": 36,
   "metadata": {},
   "outputs": [
    {
     "data": {
      "text/html": [
       "<div>\n",
       "<style scoped>\n",
       "    .dataframe tbody tr th:only-of-type {\n",
       "        vertical-align: middle;\n",
       "    }\n",
       "\n",
       "    .dataframe tbody tr th {\n",
       "        vertical-align: top;\n",
       "    }\n",
       "\n",
       "    .dataframe thead th {\n",
       "        text-align: right;\n",
       "    }\n",
       "</style>\n",
       "<table border=\"1\" class=\"dataframe\">\n",
       "  <thead>\n",
       "    <tr style=\"text-align: right;\">\n",
       "      <th></th>\n",
       "      <th>Brand</th>\n",
       "      <th>Tahun Rilis</th>\n",
       "      <th>Terjual</th>\n",
       "      <th>Harga (Juta)</th>\n",
       "      <th>Jenis Penjualan</th>\n",
       "    </tr>\n",
       "  </thead>\n",
       "  <tbody>\n",
       "    <tr>\n",
       "      <th>0</th>\n",
       "      <td>Apple</td>\n",
       "      <td>2015</td>\n",
       "      <td>150</td>\n",
       "      <td>19</td>\n",
       "      <td>Online</td>\n",
       "    </tr>\n",
       "    <tr>\n",
       "      <th>2</th>\n",
       "      <td>Samsung</td>\n",
       "      <td>2018</td>\n",
       "      <td>120</td>\n",
       "      <td>10</td>\n",
       "      <td>Online</td>\n",
       "    </tr>\n",
       "    <tr>\n",
       "      <th>3</th>\n",
       "      <td>Infinix</td>\n",
       "      <td>2015</td>\n",
       "      <td>85</td>\n",
       "      <td>9</td>\n",
       "      <td>Online</td>\n",
       "    </tr>\n",
       "    <tr>\n",
       "      <th>5</th>\n",
       "      <td>Asus</td>\n",
       "      <td>2020</td>\n",
       "      <td>120</td>\n",
       "      <td>9</td>\n",
       "      <td>Online</td>\n",
       "    </tr>\n",
       "    <tr>\n",
       "      <th>7</th>\n",
       "      <td>Huawei</td>\n",
       "      <td>2019</td>\n",
       "      <td>90</td>\n",
       "      <td>15</td>\n",
       "      <td>Online</td>\n",
       "    </tr>\n",
       "  </tbody>\n",
       "</table>\n",
       "</div>"
      ],
      "text/plain": [
       "     Brand  Tahun Rilis  Terjual  Harga (Juta) Jenis Penjualan\n",
       "0    Apple         2015      150            19          Online\n",
       "2  Samsung         2018      120            10          Online\n",
       "3  Infinix         2015       85             9          Online\n",
       "5     Asus         2020      120             9          Online\n",
       "7   Huawei         2019       90            15          Online"
      ]
     },
     "metadata": {},
     "output_type": "display_data"
    }
   ],
   "source": [
    "display(online)"
   ]
  },
  {
   "cell_type": "code",
   "execution_count": 37,
   "metadata": {},
   "outputs": [
    {
     "data": {
      "text/html": [
       "<div>\n",
       "<style scoped>\n",
       "    .dataframe tbody tr th:only-of-type {\n",
       "        vertical-align: middle;\n",
       "    }\n",
       "\n",
       "    .dataframe tbody tr th {\n",
       "        vertical-align: top;\n",
       "    }\n",
       "\n",
       "    .dataframe thead th {\n",
       "        text-align: right;\n",
       "    }\n",
       "</style>\n",
       "<table border=\"1\" class=\"dataframe\">\n",
       "  <thead>\n",
       "    <tr style=\"text-align: right;\">\n",
       "      <th></th>\n",
       "      <th>Brand</th>\n",
       "      <th>Tahun Rilis</th>\n",
       "      <th>Terjual</th>\n",
       "      <th>Harga (Juta)</th>\n",
       "      <th>Jenis Penjualan</th>\n",
       "    </tr>\n",
       "  </thead>\n",
       "  <tbody>\n",
       "    <tr>\n",
       "      <th>1</th>\n",
       "      <td>Xiaomi</td>\n",
       "      <td>2017</td>\n",
       "      <td>75</td>\n",
       "      <td>9</td>\n",
       "      <td>Offline</td>\n",
       "    </tr>\n",
       "    <tr>\n",
       "      <th>4</th>\n",
       "      <td>Oppo</td>\n",
       "      <td>2017</td>\n",
       "      <td>75</td>\n",
       "      <td>4</td>\n",
       "      <td>Offline</td>\n",
       "    </tr>\n",
       "    <tr>\n",
       "      <th>6</th>\n",
       "      <td>Lenovo</td>\n",
       "      <td>2019</td>\n",
       "      <td>50</td>\n",
       "      <td>15</td>\n",
       "      <td>Offline</td>\n",
       "    </tr>\n",
       "    <tr>\n",
       "      <th>8</th>\n",
       "      <td>Google Pixel</td>\n",
       "      <td>2020</td>\n",
       "      <td>55</td>\n",
       "      <td>15</td>\n",
       "      <td>Offline</td>\n",
       "    </tr>\n",
       "    <tr>\n",
       "      <th>9</th>\n",
       "      <td>Sony</td>\n",
       "      <td>2017</td>\n",
       "      <td>50</td>\n",
       "      <td>11</td>\n",
       "      <td>Offline</td>\n",
       "    </tr>\n",
       "  </tbody>\n",
       "</table>\n",
       "</div>"
      ],
      "text/plain": [
       "          Brand  Tahun Rilis  Terjual  Harga (Juta) Jenis Penjualan\n",
       "1        Xiaomi         2017       75             9         Offline\n",
       "4          Oppo         2017       75             4         Offline\n",
       "6        Lenovo         2019       50            15         Offline\n",
       "8  Google Pixel         2020       55            15         Offline\n",
       "9          Sony         2017       50            11         Offline"
      ]
     },
     "metadata": {},
     "output_type": "display_data"
    }
   ],
   "source": [
    "display(offline)"
   ]
  },
  {
   "cell_type": "code",
   "execution_count": null,
   "metadata": {},
   "outputs": [],
   "source": [
    "q1 = data_hp[\"Harga (Juta)\"].quantile(0.25)\n",
    "q3 = data_hp[\"Harga (Juta)\"].quantile(0.75)\n"
   ]
  },
  {
   "cell_type": "code",
   "execution_count": 39,
   "metadata": {},
   "outputs": [
    {
     "data": {
      "text/html": [
       "<div>\n",
       "<style scoped>\n",
       "    .dataframe tbody tr th:only-of-type {\n",
       "        vertical-align: middle;\n",
       "    }\n",
       "\n",
       "    .dataframe tbody tr th {\n",
       "        vertical-align: top;\n",
       "    }\n",
       "\n",
       "    .dataframe thead th {\n",
       "        text-align: right;\n",
       "    }\n",
       "</style>\n",
       "<table border=\"1\" class=\"dataframe\">\n",
       "  <thead>\n",
       "    <tr style=\"text-align: right;\">\n",
       "      <th></th>\n",
       "      <th>Brand</th>\n",
       "      <th>Tahun Rilis</th>\n",
       "      <th>Terjual</th>\n",
       "      <th>Harga (Juta)</th>\n",
       "      <th>Jenis Penjualan</th>\n",
       "      <th>Kategori Harga</th>\n",
       "    </tr>\n",
       "  </thead>\n",
       "  <tbody>\n",
       "    <tr>\n",
       "      <th>0</th>\n",
       "      <td>Apple</td>\n",
       "      <td>2015</td>\n",
       "      <td>150</td>\n",
       "      <td>19</td>\n",
       "      <td>Online</td>\n",
       "      <td>Mahal</td>\n",
       "    </tr>\n",
       "    <tr>\n",
       "      <th>1</th>\n",
       "      <td>Xiaomi</td>\n",
       "      <td>2017</td>\n",
       "      <td>75</td>\n",
       "      <td>9</td>\n",
       "      <td>Offline</td>\n",
       "      <td>Sedang</td>\n",
       "    </tr>\n",
       "    <tr>\n",
       "      <th>2</th>\n",
       "      <td>Samsung</td>\n",
       "      <td>2018</td>\n",
       "      <td>120</td>\n",
       "      <td>10</td>\n",
       "      <td>Online</td>\n",
       "      <td>Sedang</td>\n",
       "    </tr>\n",
       "    <tr>\n",
       "      <th>3</th>\n",
       "      <td>Infinix</td>\n",
       "      <td>2015</td>\n",
       "      <td>85</td>\n",
       "      <td>9</td>\n",
       "      <td>Online</td>\n",
       "      <td>Sedang</td>\n",
       "    </tr>\n",
       "    <tr>\n",
       "      <th>4</th>\n",
       "      <td>Oppo</td>\n",
       "      <td>2017</td>\n",
       "      <td>75</td>\n",
       "      <td>4</td>\n",
       "      <td>Offline</td>\n",
       "      <td>Murah</td>\n",
       "    </tr>\n",
       "    <tr>\n",
       "      <th>5</th>\n",
       "      <td>Asus</td>\n",
       "      <td>2020</td>\n",
       "      <td>120</td>\n",
       "      <td>9</td>\n",
       "      <td>Online</td>\n",
       "      <td>Sedang</td>\n",
       "    </tr>\n",
       "    <tr>\n",
       "      <th>6</th>\n",
       "      <td>Lenovo</td>\n",
       "      <td>2019</td>\n",
       "      <td>50</td>\n",
       "      <td>15</td>\n",
       "      <td>Offline</td>\n",
       "      <td>Sedang</td>\n",
       "    </tr>\n",
       "    <tr>\n",
       "      <th>7</th>\n",
       "      <td>Huawei</td>\n",
       "      <td>2019</td>\n",
       "      <td>90</td>\n",
       "      <td>15</td>\n",
       "      <td>Online</td>\n",
       "      <td>Sedang</td>\n",
       "    </tr>\n",
       "    <tr>\n",
       "      <th>8</th>\n",
       "      <td>Google Pixel</td>\n",
       "      <td>2020</td>\n",
       "      <td>55</td>\n",
       "      <td>15</td>\n",
       "      <td>Offline</td>\n",
       "      <td>Sedang</td>\n",
       "    </tr>\n",
       "    <tr>\n",
       "      <th>9</th>\n",
       "      <td>Sony</td>\n",
       "      <td>2017</td>\n",
       "      <td>50</td>\n",
       "      <td>11</td>\n",
       "      <td>Offline</td>\n",
       "      <td>Sedang</td>\n",
       "    </tr>\n",
       "  </tbody>\n",
       "</table>\n",
       "</div>"
      ],
      "text/plain": [
       "          Brand  Tahun Rilis  Terjual  Harga (Juta) Jenis Penjualan  \\\n",
       "0         Apple         2015      150            19          Online   \n",
       "1        Xiaomi         2017       75             9         Offline   \n",
       "2       Samsung         2018      120            10          Online   \n",
       "3       Infinix         2015       85             9          Online   \n",
       "4          Oppo         2017       75             4         Offline   \n",
       "5          Asus         2020      120             9          Online   \n",
       "6        Lenovo         2019       50            15         Offline   \n",
       "7        Huawei         2019       90            15          Online   \n",
       "8  Google Pixel         2020       55            15         Offline   \n",
       "9          Sony         2017       50            11         Offline   \n",
       "\n",
       "  Kategori Harga  \n",
       "0          Mahal  \n",
       "1         Sedang  \n",
       "2         Sedang  \n",
       "3         Sedang  \n",
       "4          Murah  \n",
       "5         Sedang  \n",
       "6         Sedang  \n",
       "7         Sedang  \n",
       "8         Sedang  \n",
       "9         Sedang  "
      ]
     },
     "metadata": {},
     "output_type": "display_data"
    }
   ],
   "source": [
    "data_hp[\"Kategori Harga\"] = data_hp[\"Harga (Juta)\"].apply(lambda x: \"Murah\" if x < q1 else \"Mahal\" if x > q3 else \"Sedang\")\n",
    "display(data_hp)"
   ]
  }
 ],
 "metadata": {
  "kernelspec": {
   "display_name": ".venv",
   "language": "python",
   "name": "python3"
  },
  "language_info": {
   "codemirror_mode": {
    "name": "ipython",
    "version": 3
   },
   "file_extension": ".py",
   "mimetype": "text/x-python",
   "name": "python",
   "nbconvert_exporter": "python",
   "pygments_lexer": "ipython3",
   "version": "3.12.0"
  }
 },
 "nbformat": 4,
 "nbformat_minor": 2
}
